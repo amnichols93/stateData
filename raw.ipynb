{
 "cells": [
  {
   "cell_type": "code",
   "execution_count": 24,
   "metadata": {},
   "outputs": [],
   "source": [
    "import csv\n",
    "import os\n",
    "import pandas as pd\n",
    "import matplotlib as plt\n",
    "import numpy as np\n",
    "import json"
   ]
  },
  {
   "cell_type": "code",
   "execution_count": 25,
   "metadata": {},
   "outputs": [],
   "source": [
    "# 2) Assign a variable for the file to load and the path.\n",
    "governorParties = os.path.join(\"C:\\\\Users\", \"amnic\", \"Desktop\", \"dangerousCities\", \"governorParties.csv\")\n",
    "stateFirearmDeaths = os.path.join(\"C:\\\\Users\", \"amnic\", \"Desktop\", \"dangerousCities\", \"stateFirearmDeaths.csv\")\n",
    "stateFPDeaths = os.path.join(\"C:\\\\Users\", \"amnic\", \"Desktop\", \"dangerousCities\", \"stateFluPneuDeaths.csv\")\n",
    "stateHomicides = os.path.join(\"C:\\\\Users\", \"amnic\", \"Desktop\", \"dangerousCities\", \"stateHomicides.csv\")\n",
    "statePops = os.path.join(\"C:\\\\Users\", \"amnic\", \"Desktop\", \"dangerousCities\", \"statePops.csv\")\n",
    "\n",
    "# Read the school data file and store it in a Pandas DataFrame.\n",
    "governorParties_df = pd.read_csv(governorParties)\n",
    "statePops_df = pd.read_csv(statePops)\n",
    "stateFirearmDeaths_df = pd.read_csv(stateFirearmDeaths)\n",
    "stateFPDeaths_df = pd.read_csv(stateFPDeaths)\n",
    "stateHomicides_df = pd.read_csv(stateHomicides)\n",
    "\n",
    "# Make sure they are all in alphabetical order\n",
    "governorParties_df = governorParties_df.sort_values('State')\n",
    "statePops_df = statePops_df.sort_values('State')\n",
    "stateFirearmDeaths_df = stateFirearmDeaths_df.sort_values('STATE')\n",
    "stateFPDeaths_df = stateFPDeaths_df.sort_values('STATE')\n",
    "stateHomicides_df = stateHomicides_df.sort_values('STATE')"
   ]
  },
  {
   "cell_type": "markdown",
   "metadata": {},
   "source": [
    "### Set up the basics for the data set"
   ]
  },
  {
   "cell_type": "code",
   "execution_count": 26,
   "metadata": {},
   "outputs": [],
   "source": [
    "# Make data series to hold all dictionaries moving forward\n",
    "data = []\n",
    "\n",
    "# Make a list of states and append it to the data dictionaries\n",
    "states = []\n",
    "for state in governorParties_df['State']:\n",
    "    states.append(state)\n",
    "\n",
    "# Add states to the dictionary data\n",
    "for state in states:\n",
    "    data.append({\"state\": state})\n",
    "\n",
    "# Set variable for iterations\n",
    "state_range = range(len(data))\n",
    "\n",
    "# Add the years to the data dictionaries\n",
    "years = ['2014', '2015', '2016', '2017', '2018']\n",
    "\n",
    "# Add dictionary of lists for each year\n",
    "for state in state_range:\n",
    "    for year in years:\n",
    "        data[state].update({f'{year}': []})"
   ]
  },
  {
   "cell_type": "markdown",
   "metadata": {},
   "source": [
    "### Add governorParties to dictionary"
   ]
  },
  {
   "cell_type": "code",
   "execution_count": 27,
   "metadata": {},
   "outputs": [],
   "source": [
    "# Add the governor parties to the list by year\n",
    "for state in states:\n",
    "    for code in governorParties_df['State']:\n",
    "        if state == code:\n",
    "            for year in years:\n",
    "                for state_no in state_range:\n",
    "                    if data[state_no]['state'] == code:\n",
    "                        data[state_no][year].append({\"GovParty\": governorParties_df[f'GP{year}'][state_no]})\n",
    "            \n",
    "# All data from governorParties_df is now populated into the data set"
   ]
  },
  {
   "cell_type": "markdown",
   "metadata": {},
   "source": [
    "### Add statePops to dictionary"
   ]
  },
  {
   "cell_type": "code",
   "execution_count": 28,
   "metadata": {},
   "outputs": [],
   "source": [
    "# Add the population per area information to the list by year\n",
    "for state in states:\n",
    "    for code in statePops_df['State']:\n",
    "        if state == code:\n",
    "            for year in years:\n",
    "                for state_no in state_range:\n",
    "                    if data[state_no]['state'] == code:\n",
    "                        data[state_no][year].append({\"PopulationPerArea\": str(statePops_df[f'PPA{year}'][state_no])})\n",
    "            \n",
    "# All data from statePops_df is now populated into the data set"
   ]
  },
  {
   "cell_type": "markdown",
   "metadata": {},
   "source": [
    "### Build function for adding yearly data"
   ]
  },
  {
   "cell_type": "code",
   "execution_count": 29,
   "metadata": {},
   "outputs": [],
   "source": [
    "def addYearlyData(key, dfname, index):\n",
    "    try:  \n",
    "        for year in years:\n",
    "            year_num = int(year)\n",
    "            df = dfname.loc[dfname['YEAR'] == year_num].sort_values('STATE').reset_index(drop=True)\n",
    "\n",
    "            for state in states:\n",
    "                for code in df['STATE']:\n",
    "                    if state == code:\n",
    "                        for state_no in state_range:\n",
    "                            if data[state_no]['state'] == code:\n",
    "                                rowrate = df['RATE'][state_no]\n",
    "                                rowdeaths = df['DEATHS'][state_no]\n",
    "\n",
    "                                data[state_no][year].append({key: []})\n",
    "\n",
    "                                data[state_no][year][index][key].append({'Rate': str(rowrate)})\n",
    "                                data[state_no][year][index][key].append({'Deaths': str(rowdeaths)})\n",
    "    except:\n",
    "        print('Error. Enter correct: key, dfname, index for appending data')"
   ]
  },
  {
   "cell_type": "markdown",
   "metadata": {},
   "source": [
    "### Add CDC data to dictionary"
   ]
  },
  {
   "cell_type": "code",
   "execution_count": 30,
   "metadata": {},
   "outputs": [],
   "source": [
    "addYearlyData('Firearms', stateFirearmDeaths_df, 2)\n",
    "addYearlyData('FluPneumonia', stateFPDeaths_df, 3)\n",
    "addYearlyData('Homicides', stateHomicides_df, 4)"
   ]
  },
  {
   "cell_type": "code",
   "execution_count": 31,
   "metadata": {},
   "outputs": [],
   "source": [
    "json = json.dumps(data, separators=(',',':'), indent=4)"
   ]
  },
  {
   "cell_type": "code",
   "execution_count": 33,
   "metadata": {},
   "outputs": [],
   "source": [
    "f = open(\"data_indent.json\",\"w\")\n",
    "f.write(json)\n",
    "f.close()"
   ]
  },
  {
   "cell_type": "code",
   "execution_count": null,
   "metadata": {},
   "outputs": [],
   "source": []
  }
 ],
 "metadata": {
  "kernelspec": {
   "display_name": "PythonData",
   "language": "python",
   "name": "pythondata"
  },
  "language_info": {
   "codemirror_mode": {
    "name": "ipython",
    "version": 3
   },
   "file_extension": ".py",
   "mimetype": "text/x-python",
   "name": "python",
   "nbconvert_exporter": "python",
   "pygments_lexer": "ipython3",
   "version": "3.8.3"
  }
 },
 "nbformat": 4,
 "nbformat_minor": 4
}
